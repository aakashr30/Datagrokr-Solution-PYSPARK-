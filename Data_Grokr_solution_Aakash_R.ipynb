{
  "nbformat": 4,
  "nbformat_minor": 0,
  "metadata": {
    "colab": {
      "provenance": [],
      "collapsed_sections": []
    },
    "kernelspec": {
      "name": "python3",
      "display_name": "Python 3"
    },
    "language_info": {
      "name": "python"
    }
  },
  "cells": [
    {
      "cell_type": "code",
      "execution_count": null,
      "metadata": {
        "colab": {
          "base_uri": "https://localhost:8080/"
        },
        "id": "a0hEcB76HkiQ",
        "outputId": "6941b666-2b5b-4ac7-d644-bc00e261e41e"
      },
      "outputs": [
        {
          "output_type": "stream",
          "name": "stdout",
          "text": [
            "\r0% [Working]\r            \rGet:1 https://cloud.r-project.org/bin/linux/ubuntu bionic-cran40/ InRelease [3,626 B]\n",
            "\r0% [Waiting for headers] [Connecting to security.ubuntu.com] [1 InRelease 0 B/3\r0% [Waiting for headers] [Connecting to security.ubuntu.com] [Waiting for heade\r                                                                               \rIgn:2 https://developer.download.nvidia.com/compute/machine-learning/repos/ubuntu1804/x86_64  InRelease\n",
            "\r0% [Waiting for headers] [Connecting to security.ubuntu.com] [Waiting for heade\r0% [1 InRelease gpgv 3,626 B] [Waiting for headers] [Connecting to security.ubu\r                                                                               \rHit:3 https://developer.download.nvidia.com/compute/cuda/repos/ubuntu1804/x86_64  InRelease\n",
            "\r0% [1 InRelease gpgv 3,626 B] [Waiting for headers] [Connecting to security.ubu\r                                                                               \rHit:4 https://developer.download.nvidia.com/compute/machine-learning/repos/ubuntu1804/x86_64  Release\n",
            "\r0% [1 InRelease gpgv 3,626 B] [Waiting for headers] [Connecting to security.ubu\r                                                                               \rHit:5 http://archive.ubuntu.com/ubuntu bionic InRelease\n",
            "Get:6 http://archive.ubuntu.com/ubuntu bionic-updates InRelease [88.7 kB]\n",
            "Get:7 http://security.ubuntu.com/ubuntu bionic-security InRelease [88.7 kB]\n",
            "Hit:8 http://ppa.launchpad.net/c2d4u.team/c2d4u4.0+/ubuntu bionic InRelease\n",
            "Get:9 http://archive.ubuntu.com/ubuntu bionic-backports InRelease [74.6 kB]\n",
            "Hit:11 http://ppa.launchpad.net/cran/libgit2/ubuntu bionic InRelease\n",
            "Hit:12 http://ppa.launchpad.net/deadsnakes/ppa/ubuntu bionic InRelease\n",
            "Hit:13 http://ppa.launchpad.net/graphics-drivers/ppa/ubuntu bionic InRelease\n",
            "Get:14 http://archive.ubuntu.com/ubuntu bionic-updates/restricted amd64 Packages [1,162 kB]\n",
            "Get:15 http://security.ubuntu.com/ubuntu bionic-security/universe amd64 Packages [1,540 kB]\n",
            "Get:16 http://archive.ubuntu.com/ubuntu bionic-updates/main amd64 Packages [3,390 kB]\n",
            "Get:17 http://security.ubuntu.com/ubuntu bionic-security/main amd64 Packages [2,953 kB]\n",
            "Get:18 http://security.ubuntu.com/ubuntu bionic-security/restricted amd64 Packages [1,114 kB]\n",
            "Fetched 10.4 MB in 3s (3,646 kB/s)\n",
            "Reading package lists... Done\n"
          ]
        }
      ],
      "source": [
        "!apt-get update -y\n"
      ]
    },
    {
      "cell_type": "code",
      "source": [
        "!apt-get install openjdk-8-jdk-headless -qq > /dev/null"
      ],
      "metadata": {
        "id": "l5mMbcxiHm3L"
      },
      "execution_count": null,
      "outputs": []
    },
    {
      "cell_type": "code",
      "source": [
        "!wget -q https://archive.apache.org/dist/spark/spark-3.1.2/spark-3.1.2-bin-hadoop2.7.tgz"
      ],
      "metadata": {
        "id": "ZV4iFiP5H9pn"
      },
      "execution_count": null,
      "outputs": []
    },
    {
      "cell_type": "code",
      "source": [
        "!tar xf spark-3.1.2-bin-hadoop2.7.tgz"
      ],
      "metadata": {
        "id": "zOD5EL7SIFee"
      },
      "execution_count": null,
      "outputs": []
    },
    {
      "cell_type": "code",
      "source": [
        "import os\n",
        "os.environ[\"JAVA_HOME\"] = \"/usr/lib/jvm/java-8-openjdk-amd64\"\n",
        "os.environ[\"SPARK_HOME\"] = \"/content/spark-3.1.2-bin-hadoop2.7\""
      ],
      "metadata": {
        "id": "_tdCWOF4IJ2l"
      },
      "execution_count": null,
      "outputs": []
    },
    {
      "cell_type": "code",
      "source": [
        "!pip install -q findspark\n",
        "import findspark\n",
        "findspark.init()"
      ],
      "metadata": {
        "id": "UaBimI4IIPqh"
      },
      "execution_count": null,
      "outputs": []
    },
    {
      "cell_type": "code",
      "source": [
        "from pyspark.sql import SparkSession\n",
        "spark = (SparkSession\n",
        ".builder\n",
        ".appName(\"<app_name>\")\n",
        ".getOrCreate())"
      ],
      "metadata": {
        "id": "jOfbHOTeIgH7"
      },
      "execution_count": null,
      "outputs": []
    },
    {
      "cell_type": "code",
      "source": [
        "spark.version"
      ],
      "metadata": {
        "id": "yiPhphfMMXYD",
        "colab": {
          "base_uri": "https://localhost:8080/",
          "height": 35
        },
        "outputId": "a7d3b4e2-af1a-4e3c-e84f-ffc2cdde631f"
      },
      "execution_count": null,
      "outputs": [
        {
          "output_type": "execute_result",
          "data": {
            "text/plain": [
              "'3.1.2'"
            ],
            "application/vnd.google.colaboratory.intrinsic+json": {
              "type": "string"
            }
          },
          "metadata": {},
          "execution_count": 9
        }
      ]
    },
    {
      "cell_type": "code",
      "source": [
        "! ls"
      ],
      "metadata": {
        "id": "pPBkRjjjsQqm",
        "colab": {
          "base_uri": "https://localhost:8080/"
        },
        "outputId": "03f81c96-3294-433e-b8bf-18562b412dbf"
      },
      "execution_count": null,
      "outputs": [
        {
          "output_type": "stream",
          "name": "stdout",
          "text": [
            "sample_data\n"
          ]
        }
      ]
    },
    {
      "cell_type": "code",
      "source": [
        "from pyspark.sql import SparkSession\n",
        "spark = (SparkSession.builder.appName(\"sample\").getOrCreate())"
      ],
      "metadata": {
        "id": "or6v_I8xGHeK"
      },
      "execution_count": null,
      "outputs": []
    },
    {
      "cell_type": "code",
      "source": [
        "import gdown"
      ],
      "metadata": {
        "id": "3JnMRybXGhSa"
      },
      "execution_count": null,
      "outputs": []
    },
    {
      "cell_type": "code",
      "source": [
        "gdown.download_folder(id='1QgWPHV_l25Ui9L7et8mkZohAOG59UTkQ', quiet=True, use_cookies=False)"
      ],
      "metadata": {
        "colab": {
          "base_uri": "https://localhost:8080/"
        },
        "id": "gH1RETpfGmH_",
        "outputId": "d8ef90fe-4456-48e1-9d24-706fcd09d526"
      },
      "execution_count": null,
      "outputs": [
        {
          "output_type": "execute_result",
          "data": {
            "text/plain": [
              "['/content/chess/chess_schema.png',\n",
              " '/content/chess/chess_wc_history_game_info.csv',\n",
              " '/content/chess/chess_wc_history_moves.csv',\n",
              " '/content/chess/eco_codes.csv']"
            ]
          },
          "metadata": {},
          "execution_count": 12
        }
      ]
    },
    {
      "cell_type": "code",
      "source": [
        "df_games = spark.read.csv(\"/content/chess/chess_wc_history_game_info.csv\", inferSchema=True, header=True)\n",
        "df_moves= spark.read.csv(\"/content/chess/chess_wc_history_moves.csv\", inferSchema=True, header=True)\n",
        "df_codes= spark.read.csv(\"/content/chess/eco_codes.csv\", inferSchema=True, header=True)"
      ],
      "metadata": {
        "id": "NRWLFPJ_Vq1x"
      },
      "execution_count": null,
      "outputs": []
    },
    {
      "cell_type": "markdown",
      "source": [
        "**1. List of Winners of Each World champions Trophy**"
      ],
      "metadata": {
        "id": "4USBRNcTHrSr"
      }
    },
    {
      "cell_type": "code",
      "source": [
        "import pyspark.sql.functions as F\n",
        "from pyspark.sql.window import Window\n",
        "\n",
        "low = df_games.where((df_games.tournament_name.contains('WorldChamp')) & ~df_games.winner.isin(['draw']))\n",
        "column = ['winner','tournament_name']\n",
        "\n",
        "low = low.select(column).groupBy(column).count()\n",
        "\n",
        "W_low = Window.partitionBy(\"tournament_name\").orderBy(F.col('count').desc())\n",
        "\n",
        "low = low.withColumn('countrowno',F.row_number().over(W_low)).where(F.col('countrowno') == 1)\n",
        "column1 = ['count,countrowno']\n",
        "low = low.orderBy(F.col('tournament_name')).drop(*column1)\n",
        "low = low.select(column)\n",
        "low.show()"
      ],
      "metadata": {
        "colab": {
          "base_uri": "https://localhost:8080/"
        },
        "id": "runCYj8FV6vY",
        "outputId": "a79096f9-2f7c-4961-de96-2ae4379f3a10"
      },
      "execution_count": null,
      "outputs": [
        {
          "output_type": "stream",
          "name": "stdout",
          "text": [
            "+--------------------+---------------+\n",
            "|              winner|tournament_name|\n",
            "+--------------------+---------------+\n",
            "|   Steinitz, William| WorldChamp1886|\n",
            "|   Steinitz, William| WorldChamp1889|\n",
            "|   Steinitz, William| WorldChamp1890|\n",
            "|   Steinitz, William| WorldChamp1892|\n",
            "|     Lasker, Emanuel| WorldChamp1894|\n",
            "|     Lasker, Emanuel| WorldChamp1896|\n",
            "|     Lasker, Emanuel| WorldChamp1907|\n",
            "|     Lasker, Emanuel| WorldChamp1908|\n",
            "|     Lasker, Emanuel| WorldChamp1909|\n",
            "|    Schlechter, Carl|WorldChamp1910a|\n",
            "|     Lasker, Emanuel|WorldChamp1910b|\n",
            "|Capablanca, Jose ...| WorldChamp1921|\n",
            "| Alekhine, Alexander| WorldChamp1927|\n",
            "| Alekhine, Alexander| WorldChamp1929|\n",
            "| Alekhine, Alexander| WorldChamp1934|\n",
            "|           Euwe, Max| WorldChamp1935|\n",
            "| Alekhine, Alexander| WorldChamp1937|\n",
            "|  Botvinnik, Mikhail| WorldChamp1948|\n",
            "|  Botvinnik, Mikhail| WorldChamp1951|\n",
            "|  Botvinnik, Mikhail| WorldChamp1954|\n",
            "+--------------------+---------------+\n",
            "only showing top 20 rows\n",
            "\n"
          ]
        }
      ]
    },
    {
      "cell_type": "markdown",
      "source": [
        "**Q2.List of Players with number of times they have won Tournament in descending order(Max to min)**"
      ],
      "metadata": {
        "id": "b3HrnF-2WEfZ"
      }
    },
    {
      "cell_type": "code",
      "source": [
        "from pyspark.sql.functions import col, asc,desc\n",
        "\n",
        "lop = df_games.where(~df_games.winner.isin(['draw']))\n",
        "lop = lop.select(['winner']).groupBy(\"winner\").count()\n",
        "print(\"---- List of Players with number of times they have won Tournament ----\\n\")\n",
        "lop =lop.sort(col(\"count\").desc())\n",
        "\n",
        "#Rename Column\n",
        "lop_n = lop.withColumnRenamed(\"winner\",\"player_name\") \\\n",
        "    .withColumnRenamed(\"count\",\"number_of_wins\")\n",
        "lop_n.show()"
      ],
      "metadata": {
        "colab": {
          "base_uri": "https://localhost:8080/"
        },
        "id": "yi99lW6kV7Sq",
        "outputId": "c6acebae-7d04-481e-a608-fcee84ca9b14"
      },
      "execution_count": null,
      "outputs": [
        {
          "output_type": "stream",
          "name": "stdout",
          "text": [
            "---- List of Players with number of times they have won Tournament ----\n",
            "\n",
            "+--------------------+--------------+\n",
            "|         player_name|number_of_wins|\n",
            "+--------------------+--------------+\n",
            "|     Lasker, Emanuel|            52|\n",
            "|     Karpov, Anatoly|            47|\n",
            "|  Botvinnik, Mikhail|            46|\n",
            "| Alekhine, Alexander|            43|\n",
            "|   Steinitz, William|            43|\n",
            "|           Topalov,V|            32|\n",
            "|      Kasparov, Gary|            31|\n",
            "|             Anand,V|            30|\n",
            "|    Smyslov, Vassily|            24|\n",
            "|            Adams,Mi|            20|\n",
            "|      Kasimdzhanov,R|            19|\n",
            "|          Grischuk,A|            17|\n",
            "|           Svidler,P|            16|\n",
            "|      Adams, Michael|            16|\n",
            "|            Shirov,A|            15|\n",
            "|            Bareev,E|            15|\n",
            "|             Dreev,A|            15|\n",
            "|   Chigorin, Mikhail|            14|\n",
            "|Khalifman, Alexander|            14|\n",
            "|           Euwe, Max|            14|\n",
            "+--------------------+--------------+\n",
            "only showing top 20 rows\n",
            "\n"
          ]
        }
      ]
    },
    {
      "cell_type": "markdown",
      "source": [
        "**Q3.Most and Least Popular eco move in world championship history.**"
      ],
      "metadata": {
        "id": "ktBHaTyFXDem"
      }
    },
    {
      "cell_type": "code",
      "source": [
        "eco = df_codes.select(\"eco\",\"eco_name\")\n",
        "df_pop = eco.groupBy(\"eco_name\").count()\n",
        "df_pop = df_pop.sort(col(\"count\").desc())\n",
        "df_pop.registerTempTable(\"df_table\")\n",
        "\n",
        "spark.sql(\"select eco_name, count from df_table where count = (select max(count) from df_table) union all select eco_name, count from df_table where count = (select min(count) from df_table)\").show()"
      ],
      "metadata": {
        "colab": {
          "base_uri": "https://localhost:8080/"
        },
        "id": "hxcQbt9aWQBD",
        "outputId": "78c572e0-0599-404f-f324-1336a3164668"
      },
      "execution_count": null,
      "outputs": [
        {
          "output_type": "stream",
          "name": "stdout",
          "text": [
            "+--------------------+-----+\n",
            "|            eco_name|count|\n",
            "+--------------------+-----+\n",
            "|            Sicilian|   15|\n",
            "|Sicilian, Acceler...|    1|\n",
            "|       Three Knights|    1|\n",
            "|Ruy Lopez, Bird's...|    1|\n",
            "|King's Indian, Or...|    1|\n",
            "|King's Indian Def...|    1|\n",
            "|          Old Benoni|    1|\n",
            "|    Sicilian, Alapin|    1|\n",
            "|Sicilian, Dragon,...|    1|\n",
            "|Dutch, Stonewall,...|    1|\n",
            "|Queen's Gambit De...|    1|\n",
            "|Catalan, Closed, ...|    1|\n",
            "|King's Indian, Fo...|    1|\n",
            "|Benoni, Classical...|    1|\n",
            "|Sicilian, Richter...|    1|\n",
            "|Sicilian, Fischer...|    1|\n",
            "|King's Indian, Or...|    1|\n",
            "|Benoni, Classical...|    1|\n",
            "|   Caro-Kann Defense|    1|\n",
            "|     French, Advance|    1|\n",
            "+--------------------+-----+\n",
            "only showing top 20 rows\n",
            "\n"
          ]
        }
      ]
    },
    {
      "cell_type": "markdown",
      "source": [
        "**Q4.. Find the eco move with most winnings**"
      ],
      "metadata": {
        "id": "qw71waPFXLEO"
      }
    },
    {
      "cell_type": "code",
      "source": [
        "df_ec = df_games.select(\"eco\")\n",
        "popular = df_ec.groupBy(\"eco\").count()\n",
        "popular = popular.sort(col(\"count\").desc())\n",
        "\n",
        "df_ec1 = df_codes.select(\"eco\",\"eco_name\")\n",
        "popular.registerTempTable(\"df_table1\")\n",
        "df_ec1.registerTempTable(\"df_table2\")\n",
        "\n",
        "spark.sql(\"select t2.eco,t2.eco_name from df_table1 t1,df_table2 t2 where t1.count=(select max(count) from df_table1) and t1.eco=t2.eco\").show()"
      ],
      "metadata": {
        "colab": {
          "base_uri": "https://localhost:8080/"
        },
        "id": "P2xdM6xGXGUM",
        "outputId": "ca18a49d-ef97-43c3-f52b-e6e8b099307c"
      },
      "execution_count": null,
      "outputs": [
        {
          "output_type": "stream",
          "name": "stdout",
          "text": [
            "+---+--------------+\n",
            "|eco|      eco_name|\n",
            "+---+--------------+\n",
            "|C42|Petrov Defense|\n",
            "+---+--------------+\n",
            "\n"
          ]
        }
      ]
    },
    {
      "cell_type": "markdown",
      "source": [
        "**Q5.. Longest and shortest game ever played in a world championship in terms of move.**"
      ],
      "metadata": {
        "id": "W-QW7zC4XU44"
      }
    },
    {
      "cell_type": "code",
      "source": [
        "t1 = [\"game_id\",\"move_no_pair\"]\n",
        "t2 = [\"game_id\",\"tournament_name\",\"event\"]\n",
        " \n",
        "df_t1 = df_moves.select(t1)\n",
        "df_t2 = df_games.select(t2)\n",
        "\n",
        "popular = df_t1.groupBy(\"game_id\").count()\n",
        "popular = popular.sort(col(\"count\").desc())\n",
        "\n",
        "popular.registerTempTable(\"df_table1\")\n",
        "df_t2.registerTempTable(\"df_table2\")\n",
        "\n",
        "spark.sql(\"select t2.game_id,t2.event,t2.tournament_name,t1.count as number_of_moves from df_table1 t1, df_table2 t2 where t1.count = (select max(count) from df_table1) and t1.game_id=t2.game_id union all select t2.game_id,t2.event,t2.tournament_name,t1.count as number_of_moves from df_table1 t1,df_table2 t2 where t1.count = (select min(count) from df_table1) and t1.game_id=t2.game_id\").show()"
      ],
      "metadata": {
        "colab": {
          "base_uri": "https://localhost:8080/"
        },
        "id": "caCm38-nXN2T",
        "outputId": "034281ef-004b-49c6-9c95-c7ed81180f91"
      },
      "execution_count": null,
      "outputs": [
        {
          "output_type": "stream",
          "name": "stdout",
          "text": [
            "+--------------------+--------------------+---------------+---------------+\n",
            "|             game_id|               event|tournament_name|number_of_moves|\n",
            "+--------------------+--------------------+---------------+---------------+\n",
            "|4424a0a4-3732-407...|         FIDE WCh KO|  FideChamp2000|            291|\n",
            "|1846cede-0037-4f0...|World Championshi...| WorldChamp1972|              1|\n",
            "+--------------------+--------------------+---------------+---------------+\n",
            "\n"
          ]
        }
      ]
    },
    {
      "cell_type": "markdown",
      "source": [
        "**Q6.. Shortest and Longest Draw game ever Played.**"
      ],
      "metadata": {
        "id": "u4Y4Mx4GXjGa"
      }
    },
    {
      "cell_type": "code",
      "source": [
        "t1 = [\"game_id\",\"move_no_pair\"]\n",
        "t2 = [\"game_id\",\"tournament_name\",\"event\",\"winner\"]\n",
        "df_t1=df_moves.select(t1)\n",
        "df_t2=df_games.select(t2).where(df_games.winner==\"draw\")\n",
        "\n",
        "popular = df_t1.groupBy(\"game_id\").count()\n",
        "popular = popular.sort(col(\"count\").desc())\n",
        "\n",
        "popular.registerTempTable(\"df_table1\")\n",
        "df_t2.registerTempTable(\"df_table2\")\n",
        "\n",
        "spark.sql(\"select t2.game_id,t2.event,t2.tournament_name,t1.count as number_of_moves from df_table1 t1, df_table2 t2 where t1.count = (select max(count) from df_table1 t1, df_table2 t2 where t2.game_id=t1.game_id) and t1.game_id=t2.game_id union all select t2.game_id,t2.event,t2.tournament_name,t1.count as number_of_moves from df_table1 t1, df_table2 t2 where t1.count = (select min(count) from df_table1 t1, df_table2 t2 where t2.game_id=t1.game_id) and t1.game_id=t2.game_id\").show()"
      ],
      "metadata": {
        "colab": {
          "base_uri": "https://localhost:8080/"
        },
        "id": "IJxQ-OxrXY1O",
        "outputId": "35e2439e-260a-4a64-b9e0-73e68787e9d5"
      },
      "execution_count": null,
      "outputs": [
        {
          "output_type": "stream",
          "name": "stdout",
          "text": [
            "+--------------------+-------------+---------------+---------------+\n",
            "|             game_id|        event|tournament_name|number_of_moves|\n",
            "+--------------------+-------------+---------------+---------------+\n",
            "|88f34084-e4df-490...|  FIDE WCh KO|  FideChamp2002|            258|\n",
            "|a27c2b95-fb62-4b6...|FIDE-Wch k.o.|  FideChamp1998|             12|\n",
            "+--------------------+-------------+---------------+---------------+\n",
            "\n"
          ]
        }
      ]
    },
    {
      "cell_type": "markdown",
      "source": [
        "**Q7.. Shortest and Longest Draw game ever Played.**"
      ],
      "metadata": {
        "id": "0JPKrb9YX7jH"
      }
    },
    {
      "cell_type": "code",
      "source": [
        "most = df_games.select(\"winner\",\"winner_elo\").where((df_games.winner!=\"null\") & (df_games.winner!=\"draw\")).distinct()\n",
        "most_rated = most.sort(col(\"winner_elo\").desc())\n",
        "most_rated.registerTempTable(\"df_table1\")\n",
        "\n",
        "spark.sql(\"select winner as player_name, winner_elo as elo from df_table1 where winner_elo = (select max(winner_elo) from df_table1) union all select winner as player_name, winner_elo as elo from df_table1 where winner_elo = (select min(winner_elo) from df_table1)\").show()"
      ],
      "metadata": {
        "colab": {
          "base_uri": "https://localhost:8080/"
        },
        "id": "UG0J9PvTXsIg",
        "outputId": "1c9096ff-e68e-4b42-ebfe-1a6f36ee2a2b"
      },
      "execution_count": null,
      "outputs": [
        {
          "output_type": "stream",
          "name": "stdout",
          "text": [
            "+---------------+----+\n",
            "|    player_name| elo|\n",
            "+---------------+----+\n",
            "|Carlsen, Magnus|2870|\n",
            "|     Ciuksyte,D|2271|\n",
            "+---------------+----+\n",
            "\n"
          ]
        }
      ]
    },
    {
      "cell_type": "markdown",
      "source": [
        "**Q8.3rd Last Player with most Loss**"
      ],
      "metadata": {
        "id": "qi5DWNnKYS2y"
      }
    },
    {
      "cell_type": "code",
      "source": [
        "df_lose = df_games.select(\"loser\").where((df_games.loser!=\"null\") & (df_games.loser!=\"draw\"))\n",
        "df_lose = df_lose.groupBy(\"loser\").count()\n",
        "df_lose = df_lose.sort(col(\"count\").desc())\n",
        "df_lose.registerTempTable(\"df_table\")\n",
        "spark.sql(\"select loser from df_table limit 1\").show()"
      ],
      "metadata": {
        "colab": {
          "base_uri": "https://localhost:8080/"
        },
        "id": "R0z7ki9vYDMZ",
        "outputId": "db0a42a9-6efb-430d-f250-963f4ca9b2b3"
      },
      "execution_count": null,
      "outputs": [
        {
          "output_type": "stream",
          "name": "stdout",
          "text": [
            "+-----------------+\n",
            "|            loser|\n",
            "+-----------------+\n",
            "|Steinitz, William|\n",
            "+-----------------+\n",
            "\n"
          ]
        }
      ]
    },
    {
      "cell_type": "code",
      "source": [],
      "metadata": {
        "id": "Jht0nJECYWz3"
      },
      "execution_count": null,
      "outputs": []
    }
  ]
}